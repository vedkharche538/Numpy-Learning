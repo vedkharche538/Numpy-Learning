{
 "cells": [
  {
   "cell_type": "code",
   "execution_count": 1,
   "metadata": {},
   "outputs": [],
   "source": [
    "import numpy as np\n"
   ]
  },
  {
   "cell_type": "code",
   "execution_count": 2,
   "metadata": {},
   "outputs": [
    {
     "name": "stdout",
     "output_type": "stream",
     "text": [
      "[1 2 3 4 5]\n"
     ]
    }
   ],
   "source": [
    "one_dimensional = np.array([1,2,3,4,5])\n",
    "print(one_dimensional)"
   ]
  },
  {
   "cell_type": "code",
   "execution_count": 3,
   "metadata": {},
   "outputs": [
    {
     "data": {
      "text/plain": [
       "array([[1, 3],\n",
       "       [1, 6],\n",
       "       [1, 8],\n",
       "       [5, 9]])"
      ]
     },
     "execution_count": 3,
     "metadata": {},
     "output_type": "execute_result"
    }
   ],
   "source": [
    "two_dimensional = np.array([[1,3],[1,6],[1,8],[5,9]])\n",
    "two_dimensional"
   ]
  },
  {
   "cell_type": "code",
   "execution_count": 6,
   "metadata": {},
   "outputs": [
    {
     "name": "stdout",
     "output_type": "stream",
     "text": [
      "<built-in function zeros>\n"
     ]
    }
   ],
   "source": [
    "zero_array = np.zeros\n",
    "print(zero_array)"
   ]
  },
  {
   "cell_type": "code",
   "execution_count": 8,
   "metadata": {},
   "outputs": [
    {
     "name": "stdout",
     "output_type": "stream",
     "text": [
      "<function ones at 0x0000020B72BBCB88>\n"
     ]
    }
   ],
   "source": [
    "one_array = np.array(np.ones)\n",
    "print(one_array)"
   ]
  },
  {
   "cell_type": "code",
   "execution_count": 9,
   "metadata": {},
   "outputs": [
    {
     "data": {
      "text/plain": [
       "array([ 5,  6,  7,  8,  9, 10, 11])"
      ]
     },
     "execution_count": 9,
     "metadata": {},
     "output_type": "execute_result"
    }
   ],
   "source": [
    "sequence = np.arange(5,12)\n",
    "sequence"
   ]
  },
  {
   "cell_type": "code",
   "execution_count": 11,
   "metadata": {},
   "outputs": [
    {
     "data": {
      "text/plain": [
       "['__name__',\n",
       " '__doc__',\n",
       " '__package__',\n",
       " '__loader__',\n",
       " '__spec__',\n",
       " '__path__',\n",
       " '__file__',\n",
       " '__cached__',\n",
       " '__builtins__',\n",
       " 'division',\n",
       " 'absolute_import',\n",
       " 'print_function',\n",
       " 'sys',\n",
       " 'warnings',\n",
       " '_globals',\n",
       " 'ModuleDeprecationWarning',\n",
       " 'VisibleDeprecationWarning',\n",
       " '_NoValue',\n",
       " '__NUMPY_SETUP__',\n",
       " '__config__',\n",
       " 'show_config',\n",
       " 'version',\n",
       " '__git_revision__',\n",
       " '__version__',\n",
       " '__all__',\n",
       " '_distributor_init',\n",
       " 'compat',\n",
       " '_pytesttester',\n",
       " 'core',\n",
       " 'char',\n",
       " 'rec',\n",
       " 'memmap',\n",
       " 'newaxis',\n",
       " 'ndarray',\n",
       " 'flatiter',\n",
       " 'nditer',\n",
       " 'nested_iters',\n",
       " 'ufunc',\n",
       " 'arange',\n",
       " 'array',\n",
       " 'zeros',\n",
       " 'count_nonzero',\n",
       " 'empty',\n",
       " 'broadcast',\n",
       " 'dtype',\n",
       " 'fromstring',\n",
       " 'fromfile',\n",
       " 'frombuffer',\n",
       " 'int_asbuffer',\n",
       " 'where',\n",
       " 'argwhere',\n",
       " 'copyto',\n",
       " 'concatenate',\n",
       " 'fastCopyAndTranspose',\n",
       " 'lexsort',\n",
       " 'set_numeric_ops',\n",
       " 'can_cast',\n",
       " 'promote_types',\n",
       " 'min_scalar_type',\n",
       " 'result_type',\n",
       " 'isfortran',\n",
       " 'empty_like',\n",
       " 'zeros_like',\n",
       " 'ones_like',\n",
       " 'correlate',\n",
       " 'convolve',\n",
       " 'inner',\n",
       " 'dot',\n",
       " 'outer',\n",
       " 'vdot',\n",
       " 'roll',\n",
       " 'rollaxis',\n",
       " 'moveaxis',\n",
       " 'cross',\n",
       " 'tensordot',\n",
       " 'little_endian',\n",
       " 'fromiter',\n",
       " 'array_equal',\n",
       " 'array_equiv',\n",
       " 'indices',\n",
       " 'fromfunction',\n",
       " 'isclose',\n",
       " 'isscalar',\n",
       " 'binary_repr',\n",
       " 'base_repr',\n",
       " 'ones',\n",
       " 'identity',\n",
       " 'allclose',\n",
       " 'compare_chararrays',\n",
       " 'putmask',\n",
       " 'flatnonzero',\n",
       " 'Inf',\n",
       " 'inf',\n",
       " 'infty',\n",
       " 'Infinity',\n",
       " 'nan',\n",
       " 'NaN',\n",
       " 'False_',\n",
       " 'True_',\n",
       " 'bitwise_not',\n",
       " 'CLIP',\n",
       " 'RAISE',\n",
       " 'WRAP',\n",
       " 'MAXDIMS',\n",
       " 'BUFSIZE',\n",
       " 'ALLOW_THREADS',\n",
       " 'ComplexWarning',\n",
       " 'full',\n",
       " 'full_like',\n",
       " 'matmul',\n",
       " 'shares_memory',\n",
       " 'may_share_memory',\n",
       " 'MAY_SHARE_BOUNDS',\n",
       " 'MAY_SHARE_EXACT',\n",
       " 'TooHardError',\n",
       " 'AxisError',\n",
       " 'alen',\n",
       " 'all',\n",
       " 'alltrue',\n",
       " 'amax',\n",
       " 'amin',\n",
       " 'any',\n",
       " 'argmax',\n",
       " 'argmin',\n",
       " 'argpartition',\n",
       " 'argsort',\n",
       " 'around',\n",
       " 'choose',\n",
       " 'clip',\n",
       " 'compress',\n",
       " 'cumprod',\n",
       " 'cumproduct',\n",
       " 'cumsum',\n",
       " 'diagonal',\n",
       " 'mean',\n",
       " 'ndim',\n",
       " 'nonzero',\n",
       " 'partition',\n",
       " 'prod',\n",
       " 'product',\n",
       " 'ptp',\n",
       " 'put',\n",
       " 'ravel',\n",
       " 'repeat',\n",
       " 'reshape',\n",
       " 'resize',\n",
       " 'round_',\n",
       " 'searchsorted',\n",
       " 'shape',\n",
       " 'size',\n",
       " 'sometrue',\n",
       " 'sort',\n",
       " 'squeeze',\n",
       " 'std',\n",
       " 'sum',\n",
       " 'swapaxes',\n",
       " 'take',\n",
       " 'trace',\n",
       " 'transpose',\n",
       " 'var',\n",
       " '_UFUNC_API',\n",
       " 'ERR_CALL',\n",
       " 'ERR_DEFAULT',\n",
       " 'ERR_IGNORE',\n",
       " 'ERR_LOG',\n",
       " 'ERR_PRINT',\n",
       " 'ERR_RAISE',\n",
       " 'ERR_WARN',\n",
       " 'FLOATING_POINT_SUPPORT',\n",
       " 'FPE_DIVIDEBYZERO',\n",
       " 'FPE_INVALID',\n",
       " 'FPE_OVERFLOW',\n",
       " 'FPE_UNDERFLOW',\n",
       " 'NAN',\n",
       " 'NINF',\n",
       " 'NZERO',\n",
       " 'PINF',\n",
       " 'PZERO',\n",
       " 'SHIFT_DIVIDEBYZERO',\n",
       " 'SHIFT_INVALID',\n",
       " 'SHIFT_OVERFLOW',\n",
       " 'SHIFT_UNDERFLOW',\n",
       " 'UFUNC_BUFSIZE_DEFAULT',\n",
       " 'UFUNC_PYVALS_NAME',\n",
       " '_add_newdoc_ufunc',\n",
       " 'absolute',\n",
       " 'add',\n",
       " 'arccos',\n",
       " 'arccosh',\n",
       " 'arcsin',\n",
       " 'arcsinh',\n",
       " 'arctan',\n",
       " 'arctan2',\n",
       " 'arctanh',\n",
       " 'bitwise_and',\n",
       " 'bitwise_or',\n",
       " 'bitwise_xor',\n",
       " 'cbrt',\n",
       " 'ceil',\n",
       " 'conj',\n",
       " 'conjugate',\n",
       " 'copysign',\n",
       " 'cos',\n",
       " 'cosh',\n",
       " 'deg2rad',\n",
       " 'degrees',\n",
       " 'divide',\n",
       " 'divmod',\n",
       " 'e',\n",
       " 'equal',\n",
       " 'euler_gamma',\n",
       " 'exp',\n",
       " 'exp2',\n",
       " 'expm1',\n",
       " 'fabs',\n",
       " 'floor',\n",
       " 'floor_divide',\n",
       " 'float_power',\n",
       " 'fmax',\n",
       " 'fmin',\n",
       " 'fmod',\n",
       " 'frexp',\n",
       " 'frompyfunc',\n",
       " 'gcd',\n",
       " 'geterrobj',\n",
       " 'greater',\n",
       " 'greater_equal',\n",
       " 'heaviside',\n",
       " 'hypot',\n",
       " 'invert',\n",
       " 'isfinite',\n",
       " 'isinf',\n",
       " 'isnan',\n",
       " 'isnat',\n",
       " 'lcm',\n",
       " 'ldexp',\n",
       " 'left_shift',\n",
       " 'less',\n",
       " 'less_equal',\n",
       " 'log',\n",
       " 'log10',\n",
       " 'log1p',\n",
       " 'log2',\n",
       " 'logaddexp',\n",
       " 'logaddexp2',\n",
       " 'logical_and',\n",
       " 'logical_not',\n",
       " 'logical_or',\n",
       " 'logical_xor',\n",
       " 'maximum',\n",
       " 'minimum',\n",
       " 'mod',\n",
       " 'modf',\n",
       " 'multiply',\n",
       " 'negative',\n",
       " 'nextafter',\n",
       " 'not_equal',\n",
       " 'pi',\n",
       " 'positive',\n",
       " 'power',\n",
       " 'rad2deg',\n",
       " 'radians',\n",
       " 'reciprocal',\n",
       " 'remainder',\n",
       " 'right_shift',\n",
       " 'rint',\n",
       " 'seterrobj',\n",
       " 'sign',\n",
       " 'signbit',\n",
       " 'sin',\n",
       " 'sinh',\n",
       " 'spacing',\n",
       " 'sqrt',\n",
       " 'square',\n",
       " 'subtract',\n",
       " 'tan',\n",
       " 'tanh',\n",
       " 'true_divide',\n",
       " 'trunc',\n",
       " 'sctypeDict',\n",
       " 'sctypeNA',\n",
       " 'typeDict',\n",
       " 'typeNA',\n",
       " 'sctypes',\n",
       " 'ScalarType',\n",
       " 'obj2sctype',\n",
       " 'cast',\n",
       " 'nbytes',\n",
       " 'sctype2char',\n",
       " 'maximum_sctype',\n",
       " 'issctype',\n",
       " 'typecodes',\n",
       " 'find_common_type',\n",
       " 'issubdtype',\n",
       " 'datetime_data',\n",
       " 'datetime_as_string',\n",
       " 'busday_offset',\n",
       " 'busday_count',\n",
       " 'is_busday',\n",
       " 'busdaycalendar',\n",
       " 'byte',\n",
       " 'ubyte',\n",
       " 'short',\n",
       " 'ushort',\n",
       " 'uint',\n",
       " 'intp',\n",
       " 'uintp',\n",
       " 'long',\n",
       " 'longlong',\n",
       " 'ulonglong',\n",
       " 'half',\n",
       " 'double',\n",
       " 'longdouble',\n",
       " 'cfloat',\n",
       " 'cdouble',\n",
       " 'clongdouble',\n",
       " 'unicode',\n",
       " 'void',\n",
       " 'generic',\n",
       " 'number',\n",
       " 'integer',\n",
       " 'inexact',\n",
       " 'signedinteger',\n",
       " 'unsignedinteger',\n",
       " 'floating',\n",
       " 'complexfloating',\n",
       " 'flexible',\n",
       " 'character',\n",
       " 'bool8',\n",
       " 'int64',\n",
       " 'uint64',\n",
       " 'float16',\n",
       " 'float32',\n",
       " 'float64',\n",
       " 'complex64',\n",
       " 'complex128',\n",
       " 'object0',\n",
       " 'bytes0',\n",
       " 'str0',\n",
       " 'void0',\n",
       " 'datetime64',\n",
       " 'timedelta64',\n",
       " 'int32',\n",
       " 'uint32',\n",
       " 'int16',\n",
       " 'uint16',\n",
       " 'int8',\n",
       " 'uint8',\n",
       " 'complex_',\n",
       " 'int0',\n",
       " 'uint0',\n",
       " 'single',\n",
       " 'csingle',\n",
       " 'singlecomplex',\n",
       " 'float_',\n",
       " 'intc',\n",
       " 'uintc',\n",
       " 'int_',\n",
       " 'longfloat',\n",
       " 'clongfloat',\n",
       " 'longcomplex',\n",
       " 'bool_',\n",
       " 'bytes_',\n",
       " 'string_',\n",
       " 'unicode_',\n",
       " 'object_',\n",
       " 'str_',\n",
       " 'array2string',\n",
       " 'array_str',\n",
       " 'array_repr',\n",
       " 'set_string_function',\n",
       " 'set_printoptions',\n",
       " 'get_printoptions',\n",
       " 'printoptions',\n",
       " 'format_float_positional',\n",
       " 'format_float_scientific',\n",
       " 'asarray',\n",
       " 'asanyarray',\n",
       " 'ascontiguousarray',\n",
       " 'asfortranarray',\n",
       " 'require',\n",
       " 'seterr',\n",
       " 'geterr',\n",
       " 'setbufsize',\n",
       " 'getbufsize',\n",
       " 'seterrcall',\n",
       " 'geterrcall',\n",
       " 'errstate',\n",
       " 'record',\n",
       " 'recarray',\n",
       " 'format_parser',\n",
       " 'chararray',\n",
       " 'logspace',\n",
       " 'linspace',\n",
       " 'geomspace',\n",
       " 'MachAr',\n",
       " 'finfo',\n",
       " 'iinfo',\n",
       " 'atleast_1d',\n",
       " 'atleast_2d',\n",
       " 'atleast_3d',\n",
       " 'block',\n",
       " 'hstack',\n",
       " 'stack',\n",
       " 'vstack',\n",
       " 'einsum',\n",
       " 'einsum_path',\n",
       " 'linalg',\n",
       " 'matrixlib',\n",
       " 'lib',\n",
       " 'emath',\n",
       " 'math',\n",
       " 'tracemalloc_domain',\n",
       " 'iscomplexobj',\n",
       " 'isrealobj',\n",
       " 'imag',\n",
       " 'iscomplex',\n",
       " 'isreal',\n",
       " 'nan_to_num',\n",
       " 'real',\n",
       " 'real_if_close',\n",
       " 'typename',\n",
       " 'asfarray',\n",
       " 'mintypecode',\n",
       " 'asscalar',\n",
       " 'common_type',\n",
       " 'ravel_multi_index',\n",
       " 'unravel_index',\n",
       " 'mgrid',\n",
       " 'ogrid',\n",
       " 'r_',\n",
       " 'c_',\n",
       " 's_',\n",
       " 'index_exp',\n",
       " 'ix_',\n",
       " 'ndenumerate',\n",
       " 'ndindex',\n",
       " 'fill_diagonal',\n",
       " 'diag_indices',\n",
       " 'diag_indices_from',\n",
       " 'select',\n",
       " 'piecewise',\n",
       " 'trim_zeros',\n",
       " 'copy',\n",
       " 'iterable',\n",
       " 'percentile',\n",
       " 'diff',\n",
       " 'gradient',\n",
       " 'angle',\n",
       " 'unwrap',\n",
       " 'sort_complex',\n",
       " 'disp',\n",
       " 'flip',\n",
       " 'rot90',\n",
       " 'extract',\n",
       " 'place',\n",
       " 'vectorize',\n",
       " 'asarray_chkfinite',\n",
       " 'average',\n",
       " 'bincount',\n",
       " 'digitize',\n",
       " 'cov',\n",
       " 'corrcoef',\n",
       " 'msort',\n",
       " 'median',\n",
       " 'sinc',\n",
       " 'hamming',\n",
       " 'hanning',\n",
       " 'bartlett',\n",
       " 'blackman',\n",
       " 'kaiser',\n",
       " 'trapz',\n",
       " 'i0',\n",
       " 'add_newdoc',\n",
       " 'add_docstring',\n",
       " 'meshgrid',\n",
       " 'delete',\n",
       " 'insert',\n",
       " 'append',\n",
       " 'interp',\n",
       " 'add_newdoc_ufunc',\n",
       " 'quantile',\n",
       " 'column_stack',\n",
       " 'row_stack',\n",
       " 'dstack',\n",
       " 'array_split',\n",
       " 'split',\n",
       " 'hsplit',\n",
       " 'vsplit',\n",
       " 'dsplit',\n",
       " 'apply_over_axes',\n",
       " 'expand_dims',\n",
       " 'apply_along_axis',\n",
       " 'kron',\n",
       " 'tile',\n",
       " 'get_array_wrap',\n",
       " 'take_along_axis',\n",
       " 'put_along_axis',\n",
       " 'broadcast_to',\n",
       " 'broadcast_arrays',\n",
       " 'diag',\n",
       " 'diagflat',\n",
       " 'eye',\n",
       " 'fliplr',\n",
       " 'flipud',\n",
       " 'tri',\n",
       " 'triu',\n",
       " 'tril',\n",
       " 'vander',\n",
       " 'histogram2d',\n",
       " 'mask_indices',\n",
       " 'tril_indices',\n",
       " 'tril_indices_from',\n",
       " 'triu_indices',\n",
       " 'triu_indices_from',\n",
       " 'fix',\n",
       " 'isneginf',\n",
       " 'isposinf',\n",
       " 'pad',\n",
       " 'poly',\n",
       " 'roots',\n",
       " 'polyint',\n",
       " 'polyder',\n",
       " 'polyadd',\n",
       " 'polysub',\n",
       " 'polymul',\n",
       " 'polydiv',\n",
       " 'polyval',\n",
       " 'poly1d',\n",
       " 'polyfit',\n",
       " 'RankWarning',\n",
       " 'issubclass_',\n",
       " 'issubsctype',\n",
       " 'deprecate',\n",
       " 'deprecate_with_doc',\n",
       " 'get_include',\n",
       " 'info',\n",
       " 'source',\n",
       " 'who',\n",
       " 'lookfor',\n",
       " 'byte_bounds',\n",
       " 'safe_eval',\n",
       " 'ediff1d',\n",
       " 'intersect1d',\n",
       " 'setxor1d',\n",
       " 'union1d',\n",
       " 'setdiff1d',\n",
       " 'unique',\n",
       " 'in1d',\n",
       " 'isin',\n",
       " 'savetxt',\n",
       " 'loadtxt',\n",
       " 'genfromtxt',\n",
       " 'ndfromtxt',\n",
       " 'mafromtxt',\n",
       " 'recfromtxt',\n",
       " 'recfromcsv',\n",
       " 'load',\n",
       " 'loads',\n",
       " 'save',\n",
       " 'savez',\n",
       " 'savez_compressed',\n",
       " 'packbits',\n",
       " 'unpackbits',\n",
       " 'fromregex',\n",
       " 'DataSource',\n",
       " 'fv',\n",
       " 'pmt',\n",
       " 'nper',\n",
       " 'ipmt',\n",
       " 'ppmt',\n",
       " 'pv',\n",
       " 'rate',\n",
       " 'irr',\n",
       " 'npv',\n",
       " 'mirr',\n",
       " 'nansum',\n",
       " 'nanmax',\n",
       " 'nanmin',\n",
       " 'nanargmax',\n",
       " 'nanargmin',\n",
       " 'nanmean',\n",
       " 'nanmedian',\n",
       " 'nanpercentile',\n",
       " 'nanvar',\n",
       " 'nanstd',\n",
       " 'nanprod',\n",
       " 'nancumsum',\n",
       " 'nancumprod',\n",
       " 'nanquantile',\n",
       " 'histogram',\n",
       " 'histogramdd',\n",
       " 'histogram_bin_edges',\n",
       " 'fft',\n",
       " 'polynomial',\n",
       " 'random',\n",
       " 'ctypeslib',\n",
       " 'ma',\n",
       " '_mat',\n",
       " 'matrix',\n",
       " 'bmat',\n",
       " 'mat',\n",
       " 'asmatrix',\n",
       " 'bool',\n",
       " 'int',\n",
       " 'float',\n",
       " 'complex',\n",
       " 'object',\n",
       " 'str',\n",
       " 'round',\n",
       " 'abs',\n",
       " 'max',\n",
       " 'min',\n",
       " 'oldnumeric',\n",
       " 'numarray',\n",
       " '__getattr__',\n",
       " '__dir__',\n",
       " 'test',\n",
       " 'mkl',\n",
       " '__mkl_version__',\n",
       " 'Tester',\n",
       " 'testing']"
      ]
     },
     "execution_count": 11,
     "metadata": {},
     "output_type": "execute_result"
    }
   ],
   "source": [
    "np.__dir__()"
   ]
  },
  {
   "cell_type": "code",
   "execution_count": 13,
   "metadata": {},
   "outputs": [
    {
     "data": {
      "text/plain": [
       "array([62, 55, 54, 84, 71, 72])"
      ]
     },
     "execution_count": 13,
     "metadata": {},
     "output_type": "execute_result"
    }
   ],
   "source": [
    "random_integers = np.random.randint(low=50,high = 101 , size = 6 )\n",
    "random_integers"
   ]
  },
  {
   "cell_type": "code",
   "execution_count": 17,
   "metadata": {},
   "outputs": [
    {
     "name": "stdout",
     "output_type": "stream",
     "text": [
      "[ 6  7  8  9 10 11 12 13 14 15 16 17 18 19 20]\n",
      "[ 6  7  8  9 10 11 12 13 14 15 16 17 18 19 20]\n"
     ]
    }
   ],
   "source": [
    "feature = np.arange(6,21) # write your code here\n",
    "print(feature)\n",
    "label = feature[0:15]   # write your code here\n",
    "print(label)"
   ]
  },
  {
   "cell_type": "code",
   "execution_count": 2,
   "metadata": {},
   "outputs": [
    {
     "name": "stdout",
     "output_type": "stream",
     "text": [
      "[ 6  7  8  9 10 11 12 13 14 15 16 17 18 19 20]\n",
      "[22 25 28 31 34 37 40 43 46 49 52 55 58 61 64]\n",
      "[-0.69808932 -0.55080685  0.95624309 -1.34342461  0.22167721  0.1716713\n",
      " -1.33129407  0.9766494  -1.99948603 -1.67291844 -1.05625396 -1.34981789\n",
      " -1.38535938  0.13082076  1.33975082]\n",
      "[21.30191068 24.44919315 28.95624309 29.65657539 34.22167721 37.1716713\n",
      " 38.66870593 43.9766494  44.00051397 47.32708156 50.94374604 53.65018211\n",
      " 56.61464062 61.13082076 65.33975082]\n"
     ]
    }
   ],
   "source": [
    "import numpy as np\n",
    "feature = np.arange(6,21)\n",
    "print(feature)\n",
    "label = (feature * 3) + 4\n",
    "print(label)\n",
    "noise = (np.random.random([15]) * 4) - 2\n",
    "print(noise)\n",
    "label = label + noise \n",
    "print(label)"
   ]
  },
  {
   "cell_type": "code",
   "execution_count": 21,
   "metadata": {},
   "outputs": [
    {
     "name": "stdout",
     "output_type": "stream",
     "text": [
      "[ 0.00000000e+00  6.34239197e-02  1.26592454e-01  1.89251244e-01\n",
      "  2.51147987e-01  3.12033446e-01  3.71662456e-01  4.29794912e-01\n",
      "  4.86196736e-01  5.40640817e-01  5.92907929e-01  6.42787610e-01\n",
      "  6.90079011e-01  7.34591709e-01  7.76146464e-01  8.14575952e-01\n",
      "  8.49725430e-01  8.81453363e-01  9.09631995e-01  9.34147860e-01\n",
      "  9.54902241e-01  9.71811568e-01  9.84807753e-01  9.93838464e-01\n",
      "  9.98867339e-01  9.99874128e-01  9.96854776e-01  9.89821442e-01\n",
      "  9.78802446e-01  9.63842159e-01  9.45000819e-01  9.22354294e-01\n",
      "  8.95993774e-01  8.66025404e-01  8.32569855e-01  7.95761841e-01\n",
      "  7.55749574e-01  7.12694171e-01  6.66769001e-01  6.18158986e-01\n",
      "  5.67059864e-01  5.13677392e-01  4.58226522e-01  4.00930535e-01\n",
      "  3.42020143e-01  2.81732557e-01  2.20310533e-01  1.58001396e-01\n",
      "  9.50560433e-02  3.17279335e-02 -3.17279335e-02 -9.50560433e-02\n",
      " -1.58001396e-01 -2.20310533e-01 -2.81732557e-01 -3.42020143e-01\n",
      " -4.00930535e-01 -4.58226522e-01 -5.13677392e-01 -5.67059864e-01\n",
      " -6.18158986e-01 -6.66769001e-01 -7.12694171e-01 -7.55749574e-01\n",
      " -7.95761841e-01 -8.32569855e-01 -8.66025404e-01 -8.95993774e-01\n",
      " -9.22354294e-01 -9.45000819e-01 -9.63842159e-01 -9.78802446e-01\n",
      " -9.89821442e-01 -9.96854776e-01 -9.99874128e-01 -9.98867339e-01\n",
      " -9.93838464e-01 -9.84807753e-01 -9.71811568e-01 -9.54902241e-01\n",
      " -9.34147860e-01 -9.09631995e-01 -8.81453363e-01 -8.49725430e-01\n",
      " -8.14575952e-01 -7.76146464e-01 -7.34591709e-01 -6.90079011e-01\n",
      " -6.42787610e-01 -5.92907929e-01 -5.40640817e-01 -4.86196736e-01\n",
      " -4.29794912e-01 -3.71662456e-01 -3.12033446e-01 -2.51147987e-01\n",
      " -1.89251244e-01 -1.26592454e-01 -6.34239197e-02 -2.44929360e-16]\n"
     ]
    }
   ],
   "source": [
    "import numpy as np\n",
    "from numpy import pi\n",
    "np.arange(0,2.0,0.4)\n",
    "np.linspace(0,2,9,retstep=True)\n",
    "np.linspace(0,2,9,endpoint = True)#array([0.  , 0.25, 0.5 , 0.75, 1.  , 1.25, 1.5 , 1.75, 2.  ])\n",
    "np.linspace(0,2,9,endpoint = False)#array([0.        , 0.22222222, 0.44444444, 0.66666667, 0.88888889,1.11111111, 1.33333333, 1.55555556, 1.77777778])\n",
    "x = np.linspace(0,2*pi,100)\n",
    "f = np.sin(x)\n",
    "print(f)"
   ]
  },
  {
   "cell_type": "markdown",
   "metadata": {},
   "source": [
    "# Printing Array"
   ]
  },
  {
   "cell_type": "code",
   "execution_count": 14,
   "metadata": {},
   "outputs": [
    {
     "data": {
      "text/plain": [
       "array([0, 1, 2, 3])"
      ]
     },
     "execution_count": 14,
     "metadata": {},
     "output_type": "execute_result"
    }
   ],
   "source": [
    "a = np.arange(4)\n",
    "a"
   ]
  },
  {
   "cell_type": "code",
   "execution_count": 16,
   "metadata": {},
   "outputs": [
    {
     "name": "stdout",
     "output_type": "stream",
     "text": [
      "[[ 0  1  2]\n",
      " [ 3  4  5]\n",
      " [ 6  7  8]\n",
      " [ 9 10 11]]\n"
     ]
    }
   ],
   "source": [
    "b = np.arange(12).reshape(4,3)           # 2d array\n",
    "print(b)"
   ]
  },
  {
   "cell_type": "code",
   "execution_count": 19,
   "metadata": {},
   "outputs": [
    {
     "name": "stdout",
     "output_type": "stream",
     "text": [
      "[[[ 0  1  2  3]\n",
      "  [ 4  5  6  7]\n",
      "  [ 8  9 10 11]]\n",
      "\n",
      " [[12 13 14 15]\n",
      "  [16 17 18 19]\n",
      "  [20 21 22 23]]\n",
      "\n",
      " [[24 25 26 27]\n",
      "  [28 29 30 31]\n",
      "  [32 33 34 35]]]\n"
     ]
    }
   ],
   "source": [
    "c = np.arange(36).reshape(3,3,4)\n",
    "print(c)"
   ]
  },
  {
   "cell_type": "markdown",
   "metadata": {},
   "source": [
    "# Basic Operation"
   ]
  },
  {
   "cell_type": "code",
   "execution_count": 22,
   "metadata": {},
   "outputs": [],
   "source": [
    "a = np.array([20,24,26,28])"
   ]
  },
  {
   "cell_type": "code",
   "execution_count": 23,
   "metadata": {},
   "outputs": [
    {
     "data": {
      "text/plain": [
       "array([ True,  True, False, False])"
      ]
     },
     "execution_count": 23,
     "metadata": {},
     "output_type": "execute_result"
    }
   ],
   "source": [
    "a<25"
   ]
  },
  {
   "cell_type": "code",
   "execution_count": 27,
   "metadata": {},
   "outputs": [
    {
     "name": "stdout",
     "output_type": "stream",
     "text": [
      "[[ 0  1  2  3]\n",
      " [ 4  5  6  7]\n",
      " [ 8  9 10 11]]\n"
     ]
    },
    {
     "data": {
      "text/plain": [
       "array([12, 15, 18, 21])"
      ]
     },
     "execution_count": 27,
     "metadata": {},
     "output_type": "execute_result"
    }
   ],
   "source": [
    "b = np.arange(12).reshape(3,4)\n",
    "print(b)\n",
    "b.sum(axis=0)#sum of each column"
   ]
  },
  {
   "cell_type": "code",
   "execution_count": 30,
   "metadata": {},
   "outputs": [
    {
     "data": {
      "text/plain": [
       "array([0, 4, 8])"
      ]
     },
     "execution_count": 30,
     "metadata": {},
     "output_type": "execute_result"
    }
   ],
   "source": [
    "b.min(axis=1)#min of each row"
   ]
  },
  {
   "cell_type": "code",
   "execution_count": 31,
   "metadata": {},
   "outputs": [
    {
     "data": {
      "text/plain": [
       "array([[ 0,  1,  3,  6],\n",
       "       [ 4,  9, 15, 22],\n",
       "       [ 8, 17, 27, 38]], dtype=int32)"
      ]
     },
     "execution_count": 31,
     "metadata": {},
     "output_type": "execute_result"
    }
   ],
   "source": [
    "b.cumsum(axis = 1)"
   ]
  },
  {
   "cell_type": "code",
   "execution_count": 32,
   "metadata": {},
   "outputs": [
    {
     "data": {
      "text/plain": [
       "array([1, 5, 9])"
      ]
     },
     "execution_count": 32,
     "metadata": {},
     "output_type": "execute_result"
    }
   ],
   "source": [
    "b[:,1]"
   ]
  },
  {
   "cell_type": "code",
   "execution_count": 35,
   "metadata": {},
   "outputs": [
    {
     "data": {
      "text/plain": [
       "array([1, 5, 9])"
      ]
     },
     "execution_count": 35,
     "metadata": {},
     "output_type": "execute_result"
    }
   ],
   "source": [
    "b[0:3,1]"
   ]
  },
  {
   "cell_type": "code",
   "execution_count": 36,
   "metadata": {},
   "outputs": [
    {
     "name": "stdout",
     "output_type": "stream",
     "text": [
      "[0 1 2 3]\n",
      "[4 5 6 7]\n",
      "[ 8  9 10 11]\n"
     ]
    }
   ],
   "source": [
    "for i in b:\n",
    "    print(i)"
   ]
  },
  {
   "cell_type": "code",
   "execution_count": 37,
   "metadata": {},
   "outputs": [
    {
     "name": "stdout",
     "output_type": "stream",
     "text": [
      "0\n",
      "1\n",
      "2\n",
      "3\n",
      "4\n",
      "5\n",
      "6\n",
      "7\n",
      "8\n",
      "9\n",
      "10\n",
      "11\n"
     ]
    }
   ],
   "source": [
    "for i in b.flat:\n",
    "    print(i)"
   ]
  },
  {
   "cell_type": "markdown",
   "metadata": {},
   "source": [
    "# Shape Manipulation"
   ]
  },
  {
   "cell_type": "markdown",
   "metadata": {},
   "source": [
    "changing the shape of array"
   ]
  },
  {
   "cell_type": "code",
   "execution_count": 3,
   "metadata": {},
   "outputs": [
    {
     "data": {
      "text/plain": [
       "array([[6., 7., 6., 1.],\n",
       "       [6., 7., 8., 6.],\n",
       "       [5., 1., 6., 4.]])"
      ]
     },
     "execution_count": 3,
     "metadata": {},
     "output_type": "execute_result"
    }
   ],
   "source": [
    "import numpy as np\n",
    "a = np.floor(10*np.random.random((3,4)))\n",
    "a"
   ]
  },
  {
   "cell_type": "code",
   "execution_count": 4,
   "metadata": {},
   "outputs": [
    {
     "data": {
      "text/plain": [
       "(3, 4)"
      ]
     },
     "execution_count": 4,
     "metadata": {},
     "output_type": "execute_result"
    }
   ],
   "source": [
    "a.shape"
   ]
  },
  {
   "cell_type": "code",
   "execution_count": 5,
   "metadata": {},
   "outputs": [
    {
     "data": {
      "text/plain": [
       "array([6., 7., 6., 1., 6., 7., 8., 6., 5., 1., 6., 4.])"
      ]
     },
     "execution_count": 5,
     "metadata": {},
     "output_type": "execute_result"
    }
   ],
   "source": [
    "a.ravel()# returns the array, flattened"
   ]
  },
  {
   "cell_type": "code",
   "execution_count": 6,
   "metadata": {},
   "outputs": [
    {
     "data": {
      "text/plain": [
       "array([[6., 7.],\n",
       "       [6., 1.],\n",
       "       [6., 7.],\n",
       "       [8., 6.],\n",
       "       [5., 1.],\n",
       "       [6., 4.]])"
      ]
     },
     "execution_count": 6,
     "metadata": {},
     "output_type": "execute_result"
    }
   ],
   "source": [
    "a.reshape(6,2)"
   ]
  },
  {
   "cell_type": "code",
   "execution_count": 7,
   "metadata": {},
   "outputs": [
    {
     "data": {
      "text/plain": [
       "array([[6., 6., 5.],\n",
       "       [7., 7., 1.],\n",
       "       [6., 8., 6.],\n",
       "       [1., 6., 4.]])"
      ]
     },
     "execution_count": 7,
     "metadata": {},
     "output_type": "execute_result"
    }
   ],
   "source": [
    "a.T"
   ]
  },
  {
   "cell_type": "code",
   "execution_count": 8,
   "metadata": {},
   "outputs": [
    {
     "data": {
      "text/plain": [
       "(4, 3)"
      ]
     },
     "execution_count": 8,
     "metadata": {},
     "output_type": "execute_result"
    }
   ],
   "source": [
    "a.T.shape"
   ]
  },
  {
   "cell_type": "code",
   "execution_count": 9,
   "metadata": {},
   "outputs": [
    {
     "data": {
      "text/plain": [
       "(3, 4)"
      ]
     },
     "execution_count": 9,
     "metadata": {},
     "output_type": "execute_result"
    }
   ],
   "source": [
    "a.shape"
   ]
  },
  {
   "cell_type": "code",
   "execution_count": 10,
   "metadata": {},
   "outputs": [
    {
     "name": "stdout",
     "output_type": "stream",
     "text": [
      "6.0\n",
      "7.0\n",
      "6.0\n",
      "1.0\n",
      "6.0\n",
      "7.0\n",
      "8.0\n",
      "6.0\n",
      "5.0\n",
      "1.0\n",
      "6.0\n",
      "4.0\n"
     ]
    }
   ],
   "source": [
    "for i in a.ravel():\n",
    "    print(i)"
   ]
  },
  {
   "cell_type": "raw",
   "metadata": {},
   "source": [
    "The reshape function returns its argument with a modified shape, whereas the ndarray.resize method modifies the array itself:"
   ]
  },
  {
   "cell_type": "code",
   "execution_count": 11,
   "metadata": {},
   "outputs": [],
   "source": [
    "a.resize((2,6))"
   ]
  },
  {
   "cell_type": "code",
   "execution_count": 12,
   "metadata": {},
   "outputs": [
    {
     "data": {
      "text/plain": [
       "array([[6., 7., 6., 1., 6., 7.],\n",
       "       [8., 6., 5., 1., 6., 4.]])"
      ]
     },
     "execution_count": 12,
     "metadata": {},
     "output_type": "execute_result"
    }
   ],
   "source": [
    "a\n"
   ]
  },
  {
   "cell_type": "code",
   "execution_count": 13,
   "metadata": {},
   "outputs": [
    {
     "data": {
      "text/plain": [
       "array([[6., 7., 6., 1.],\n",
       "       [6., 7., 8., 6.],\n",
       "       [5., 1., 6., 4.]])"
      ]
     },
     "execution_count": 13,
     "metadata": {},
     "output_type": "execute_result"
    }
   ],
   "source": [
    "a.reshape(3,-1)"
   ]
  },
  {
   "cell_type": "code",
   "execution_count": 15,
   "metadata": {},
   "outputs": [
    {
     "data": {
      "text/plain": [
       "array([[6., 7.],\n",
       "       [6., 1.],\n",
       "       [6., 7.],\n",
       "       [8., 6.],\n",
       "       [5., 1.],\n",
       "       [6., 4.]])"
      ]
     },
     "execution_count": 15,
     "metadata": {},
     "output_type": "execute_result"
    }
   ],
   "source": [
    "a.reshape(6,2)"
   ]
  },
  {
   "cell_type": "markdown",
   "metadata": {},
   "source": [
    "# # Stacking together different arrays"
   ]
  },
  {
   "cell_type": "code",
   "execution_count": 21,
   "metadata": {},
   "outputs": [
    {
     "data": {
      "text/plain": [
       "array([[6., 8.],\n",
       "       [2., 3.]])"
      ]
     },
     "execution_count": 21,
     "metadata": {},
     "output_type": "execute_result"
    }
   ],
   "source": [
    "a = np.floor(10*np.random.random((2,2)))\n",
    "a"
   ]
  },
  {
   "cell_type": "code",
   "execution_count": 22,
   "metadata": {},
   "outputs": [
    {
     "data": {
      "text/plain": [
       "array([[9., 1.],\n",
       "       [4., 4.]])"
      ]
     },
     "execution_count": 22,
     "metadata": {},
     "output_type": "execute_result"
    }
   ],
   "source": [
    "b = np.floor(10*np.random.random((2,2)))\n",
    "b"
   ]
  },
  {
   "cell_type": "code",
   "execution_count": 23,
   "metadata": {},
   "outputs": [
    {
     "data": {
      "text/plain": [
       "array([[6., 8.],\n",
       "       [2., 3.],\n",
       "       [9., 1.],\n",
       "       [4., 4.]])"
      ]
     },
     "execution_count": 23,
     "metadata": {},
     "output_type": "execute_result"
    }
   ],
   "source": [
    "np.vstack((a,b))"
   ]
  },
  {
   "cell_type": "code",
   "execution_count": 24,
   "metadata": {},
   "outputs": [
    {
     "data": {
      "text/plain": [
       "array([[6., 8., 9., 1.],\n",
       "       [2., 3., 4., 4.]])"
      ]
     },
     "execution_count": 24,
     "metadata": {},
     "output_type": "execute_result"
    }
   ],
   "source": [
    "np.hstack((a,b))"
   ]
  },
  {
   "cell_type": "raw",
   "metadata": {},
   "source": [
    "The function column_stack stacks 1D arrays as columns into a 2D array. It is equivalent to hstack only for 2D arrays:"
   ]
  },
  {
   "cell_type": "code",
   "execution_count": 25,
   "metadata": {},
   "outputs": [
    {
     "data": {
      "text/plain": [
       "array([[6., 8., 9., 1.],\n",
       "       [2., 3., 4., 4.]])"
      ]
     },
     "execution_count": 25,
     "metadata": {},
     "output_type": "execute_result"
    }
   ],
   "source": [
    "from numpy import newaxis\n",
    "np.column_stack((a,b))"
   ]
  },
  {
   "cell_type": "code",
   "execution_count": null,
   "metadata": {},
   "outputs": [],
   "source": [
    "# a= np.array([4,2])\n",
    "b= np.array([2,8])\n",
    "np.column_stack((a,b))"
   ]
  },
  {
   "cell_type": "code",
   "execution_count": 27,
   "metadata": {},
   "outputs": [
    {
     "data": {
      "text/plain": [
       "array([[4],\n",
       "       [2]])"
      ]
     },
     "execution_count": 27,
     "metadata": {},
     "output_type": "execute_result"
    }
   ],
   "source": [
    "a[:,newaxis]# this allows to have a 2D columns vector\n"
   ]
  },
  {
   "cell_type": "code",
   "execution_count": 32,
   "metadata": {},
   "outputs": [
    {
     "data": {
      "text/plain": [
       "array([[4, 2],\n",
       "       [2, 8]])"
      ]
     },
     "execution_count": 32,
     "metadata": {},
     "output_type": "execute_result"
    }
   ],
   "source": [
    "np.column_stack((a[:,newaxis],b[:,newaxis]))"
   ]
  },
  {
   "cell_type": "raw",
   "metadata": {},
   "source": [
    "When used with arrays as arguments, r_ and c_ are similar to vstack and hstack in their default behavior, but allow for an optional argument giving the number of the axis along which to concatenate."
   ]
  },
  {
   "cell_type": "code",
   "execution_count": 34,
   "metadata": {},
   "outputs": [
    {
     "data": {
      "text/plain": [
       "array([1, 2, 3, 0, 4])"
      ]
     },
     "execution_count": 34,
     "metadata": {},
     "output_type": "execute_result"
    }
   ],
   "source": [
    "np.r_[1:4,0,4]"
   ]
  },
  {
   "cell_type": "markdown",
   "metadata": {},
   "source": [
    "# Splitting one array into several smaller ones"
   ]
  },
  {
   "cell_type": "code",
   "execution_count": 35,
   "metadata": {},
   "outputs": [],
   "source": [
    "a = np.floor(10*np.random.random((2,12)))"
   ]
  },
  {
   "cell_type": "code",
   "execution_count": 36,
   "metadata": {},
   "outputs": [
    {
     "data": {
      "text/plain": [
       "array([[4., 0., 3., 5., 0., 0., 1., 1., 2., 3., 8., 0.],\n",
       "       [1., 4., 3., 0., 3., 3., 7., 7., 5., 6., 7., 7.]])"
      ]
     },
     "execution_count": 36,
     "metadata": {},
     "output_type": "execute_result"
    }
   ],
   "source": [
    "a"
   ]
  },
  {
   "cell_type": "code",
   "execution_count": 38,
   "metadata": {},
   "outputs": [],
   "source": [
    "b ,c,d = np.hsplit(a,3) #split a into 3"
   ]
  },
  {
   "cell_type": "code",
   "execution_count": 39,
   "metadata": {},
   "outputs": [
    {
     "data": {
      "text/plain": [
       "array([[4., 0., 3., 5.],\n",
       "       [1., 4., 3., 0.]])"
      ]
     },
     "execution_count": 39,
     "metadata": {},
     "output_type": "execute_result"
    }
   ],
   "source": [
    "b"
   ]
  },
  {
   "cell_type": "code",
   "execution_count": 40,
   "metadata": {},
   "outputs": [
    {
     "data": {
      "text/plain": [
       "array([[0., 0., 1., 1.],\n",
       "       [3., 3., 7., 7.]])"
      ]
     },
     "execution_count": 40,
     "metadata": {},
     "output_type": "execute_result"
    }
   ],
   "source": [
    "c"
   ]
  },
  {
   "cell_type": "code",
   "execution_count": 41,
   "metadata": {},
   "outputs": [
    {
     "data": {
      "text/plain": [
       "array([[2., 3., 8., 0.],\n",
       "       [5., 6., 7., 7.]])"
      ]
     },
     "execution_count": 41,
     "metadata": {},
     "output_type": "execute_result"
    }
   ],
   "source": [
    "d"
   ]
  },
  {
   "cell_type": "code",
   "execution_count": 43,
   "metadata": {},
   "outputs": [
    {
     "data": {
      "text/plain": [
       "[array([[4., 0., 3.],\n",
       "        [1., 4., 3.]]),\n",
       " array([[5.],\n",
       "        [0.]]),\n",
       " array([[0., 0., 1.],\n",
       "        [3., 3., 7.]]),\n",
       " array([[1., 2., 3., 8., 0.],\n",
       "        [7., 5., 6., 7., 7.]])]"
      ]
     },
     "execution_count": 43,
     "metadata": {},
     "output_type": "execute_result"
    }
   ],
   "source": [
    "np.hsplit(a,(3,4,7)) #split a after the third and the fourth column"
   ]
  },
  {
   "cell_type": "raw",
   "metadata": {},
   "source": [
    "vsplit splits along the vertical axis, and array_split allows one to specify along which axis to split."
   ]
  },
  {
   "cell_type": "markdown",
   "metadata": {},
   "source": [
    "## copies and views"
   ]
  },
  {
   "cell_type": "code",
   "execution_count": 3,
   "metadata": {},
   "outputs": [],
   "source": [
    "import numpy as np\n",
    "a = np.arange(12)\n",
    "b = np.arange(2)\n",
    "c = a.view()"
   ]
  },
  {
   "cell_type": "code",
   "execution_count": 4,
   "metadata": {},
   "outputs": [
    {
     "data": {
      "text/plain": [
       "array([ 0,  1,  2,  3,  4,  5,  6,  7,  8,  9, 10, 11])"
      ]
     },
     "execution_count": 4,
     "metadata": {},
     "output_type": "execute_result"
    }
   ],
   "source": [
    "c"
   ]
  },
  {
   "cell_type": "code",
   "execution_count": 5,
   "metadata": {},
   "outputs": [
    {
     "data": {
      "text/plain": [
       "False"
      ]
     },
     "execution_count": 5,
     "metadata": {},
     "output_type": "execute_result"
    }
   ],
   "source": [
    "c is a"
   ]
  },
  {
   "cell_type": "code",
   "execution_count": 6,
   "metadata": {},
   "outputs": [
    {
     "data": {
      "text/plain": [
       "array([ 0,  1,  2,  3,  4,  5,  6,  7,  8,  9, 10, 11])"
      ]
     },
     "execution_count": 6,
     "metadata": {},
     "output_type": "execute_result"
    }
   ],
   "source": [
    "a"
   ]
  },
  {
   "cell_type": "code",
   "execution_count": 13,
   "metadata": {},
   "outputs": [],
   "source": [
    "b = 2\n",
    "c += b"
   ]
  },
  {
   "cell_type": "code",
   "execution_count": 14,
   "metadata": {},
   "outputs": [
    {
     "data": {
      "text/plain": [
       "array([ 2,  3,  4,  5,  6,  7,  8,  9, 10, 11, 12, 13])"
      ]
     },
     "execution_count": 14,
     "metadata": {},
     "output_type": "execute_result"
    }
   ],
   "source": [
    "c"
   ]
  },
  {
   "cell_type": "code",
   "execution_count": 15,
   "metadata": {},
   "outputs": [
    {
     "data": {
      "text/plain": [
       "array([ 2,  3,  4,  5,  6,  7,  8,  9, 10, 11, 12, 13])"
      ]
     },
     "execution_count": 15,
     "metadata": {},
     "output_type": "execute_result"
    }
   ],
   "source": [
    "a"
   ]
  },
  {
   "cell_type": "code",
   "execution_count": 16,
   "metadata": {},
   "outputs": [
    {
     "data": {
      "text/plain": [
       "False"
      ]
     },
     "execution_count": 16,
     "metadata": {},
     "output_type": "execute_result"
    }
   ],
   "source": [
    "c is a"
   ]
  },
  {
   "cell_type": "code",
   "execution_count": 17,
   "metadata": {},
   "outputs": [
    {
     "data": {
      "text/plain": [
       "numpy.ndarray"
      ]
     },
     "execution_count": 17,
     "metadata": {},
     "output_type": "execute_result"
    }
   ],
   "source": [
    "type(c)"
   ]
  },
  {
   "cell_type": "code",
   "execution_count": 18,
   "metadata": {},
   "outputs": [
    {
     "data": {
      "text/plain": [
       "numpy.ndarray"
      ]
     },
     "execution_count": 18,
     "metadata": {},
     "output_type": "execute_result"
    }
   ],
   "source": [
    "type(a)"
   ]
  },
  {
   "cell_type": "code",
   "execution_count": 23,
   "metadata": {},
   "outputs": [],
   "source": [
    "s = a[:]"
   ]
  },
  {
   "cell_type": "code",
   "execution_count": 24,
   "metadata": {},
   "outputs": [],
   "source": [
    "s[:] = 10"
   ]
  },
  {
   "cell_type": "markdown",
   "metadata": {},
   "source": [
    "# Deep Copy"
   ]
  },
  {
   "cell_type": "code",
   "execution_count": 25,
   "metadata": {},
   "outputs": [],
   "source": [
    "d = a.copy()"
   ]
  },
  {
   "cell_type": "code",
   "execution_count": 27,
   "metadata": {},
   "outputs": [
    {
     "data": {
      "text/plain": [
       "array([10, 10, 10, 10, 10, 10, 10, 10, 10, 10, 10, 10])"
      ]
     },
     "execution_count": 27,
     "metadata": {},
     "output_type": "execute_result"
    }
   ],
   "source": [
    "d[0] = 9999\n",
    "a"
   ]
  },
  {
   "cell_type": "markdown",
   "metadata": {},
   "source": [
    "## Indexing with Arrays of Indices"
   ]
  },
  {
   "cell_type": "code",
   "execution_count": 30,
   "metadata": {},
   "outputs": [
    {
     "name": "stdout",
     "output_type": "stream",
     "text": [
      "[  0   1   4   9  16  25  36  49  64  81 100 121]\n"
     ]
    }
   ],
   "source": [
    "a = np.arange(12)**2\n",
    "print(a)"
   ]
  },
  {
   "cell_type": "code",
   "execution_count": 31,
   "metadata": {},
   "outputs": [
    {
     "name": "stdout",
     "output_type": "stream",
     "text": [
      "[1 1 3 8 5]\n"
     ]
    }
   ],
   "source": [
    "i = np.array([1,1,3,8,5])\n",
    "print(i)"
   ]
  },
  {
   "cell_type": "code",
   "execution_count": 32,
   "metadata": {},
   "outputs": [
    {
     "data": {
      "text/plain": [
       "array([ 1,  1,  9, 64, 25], dtype=int32)"
      ]
     },
     "execution_count": 32,
     "metadata": {},
     "output_type": "execute_result"
    }
   ],
   "source": [
    "a[i]"
   ]
  },
  {
   "cell_type": "markdown",
   "metadata": {},
   "source": [
    "# The Ix_() function"
   ]
  },
  {
   "cell_type": "code",
   "execution_count": 2,
   "metadata": {},
   "outputs": [
    {
     "data": {
      "text/plain": [
       "(4, 1, 1)"
      ]
     },
     "execution_count": 2,
     "metadata": {},
     "output_type": "execute_result"
    }
   ],
   "source": [
    "import numpy as np\n",
    "a= np.array([2,3,4,5])\n",
    "b = np.array([8,5,4])\n",
    "c = np.array([5,4,6,8,3])\n",
    "ax,bx,cx = np.ix_(a,b,c)\n",
    "ax.ndim\n",
    "ax.shape"
   ]
  },
  {
   "cell_type": "code",
   "execution_count": 11,
   "metadata": {},
   "outputs": [
    {
     "name": "stdout",
     "output_type": "stream",
     "text": [
      "(4, 1) [[2]\n",
      " [3]\n",
      " [4]\n",
      " [5]]\n",
      "(1, 3) [[8 5 4]]\n"
     ]
    }
   ],
   "source": [
    "a= np.array([2,3,4,5])\n",
    "b = np.array([8,5,4])\n",
    "ax,bx = np.ix_(a,b)\n",
    "\n",
    "print(ax.shape,ax)\n",
    "print(bx.shape,bx)"
   ]
  },
  {
   "cell_type": "code",
   "execution_count": 6,
   "metadata": {},
   "outputs": [
    {
     "name": "stdout",
     "output_type": "stream",
     "text": [
      "3 [[[2]]\n",
      "\n",
      " [[3]]\n",
      "\n",
      " [[4]]\n",
      "\n",
      " [[5]]]\n",
      "3 [[[8]\n",
      "  [5]\n",
      "  [4]]]\n",
      "3 [[[5 4 6 8 3]]]\n"
     ]
    }
   ],
   "source": [
    "print(ax.ndim,ax)\n",
    "print(bx.ndim,bx)\n",
    "print(cx.ndim,cx)"
   ]
  },
  {
   "cell_type": "code",
   "execution_count": 5,
   "metadata": {},
   "outputs": [
    {
     "data": {
      "text/plain": [
       "(1, 3, 1)"
      ]
     },
     "execution_count": 5,
     "metadata": {},
     "output_type": "execute_result"
    }
   ],
   "source": [
    "bx.ndim\n",
    "bx.shape"
   ]
  },
  {
   "cell_type": "code",
   "execution_count": 39,
   "metadata": {},
   "outputs": [
    {
     "data": {
      "text/plain": [
       "(1, 1, 5)"
      ]
     },
     "execution_count": 39,
     "metadata": {},
     "output_type": "execute_result"
    }
   ],
   "source": [
    "cx.ndim\n",
    "cx.shape"
   ]
  },
  {
   "cell_type": "code",
   "execution_count": 40,
   "metadata": {},
   "outputs": [],
   "source": [
    "result = ax+bx*cx"
   ]
  },
  {
   "cell_type": "code",
   "execution_count": 41,
   "metadata": {},
   "outputs": [
    {
     "data": {
      "text/plain": [
       "array([[[42, 34, 50, 66, 26],\n",
       "        [27, 22, 32, 42, 17],\n",
       "        [22, 18, 26, 34, 14]],\n",
       "\n",
       "       [[43, 35, 51, 67, 27],\n",
       "        [28, 23, 33, 43, 18],\n",
       "        [23, 19, 27, 35, 15]],\n",
       "\n",
       "       [[44, 36, 52, 68, 28],\n",
       "        [29, 24, 34, 44, 19],\n",
       "        [24, 20, 28, 36, 16]],\n",
       "\n",
       "       [[45, 37, 53, 69, 29],\n",
       "        [30, 25, 35, 45, 20],\n",
       "        [25, 21, 29, 37, 17]]])"
      ]
     },
     "execution_count": 41,
     "metadata": {},
     "output_type": "execute_result"
    }
   ],
   "source": [
    "result"
   ]
  },
  {
   "cell_type": "code",
   "execution_count": 42,
   "metadata": {},
   "outputs": [
    {
     "data": {
      "text/plain": [
       "17"
      ]
     },
     "execution_count": 42,
     "metadata": {},
     "output_type": "execute_result"
    }
   ],
   "source": [
    "result[3,2,4]"
   ]
  },
  {
   "cell_type": "code",
   "execution_count": 43,
   "metadata": {},
   "outputs": [
    {
     "data": {
      "text/plain": [
       "17"
      ]
     },
     "execution_count": 43,
     "metadata": {},
     "output_type": "execute_result"
    }
   ],
   "source": [
    "a[3]+b[2]*c[4]"
   ]
  },
  {
   "cell_type": "markdown",
   "metadata": {},
   "source": [
    "# Linear Algebra"
   ]
  },
  {
   "cell_type": "code",
   "execution_count": 44,
   "metadata": {},
   "outputs": [
    {
     "name": "stdout",
     "output_type": "stream",
     "text": [
      "[[1. 2.]\n",
      " [3. 4.]]\n"
     ]
    }
   ],
   "source": [
    "import numpy as np\n",
    "a = np.array([[1.0,2.0],[3.0,4.0]])\n",
    "print(a)"
   ]
  },
  {
   "cell_type": "code",
   "execution_count": 45,
   "metadata": {},
   "outputs": [
    {
     "data": {
      "text/plain": [
       "array([[1., 3.],\n",
       "       [2., 4.]])"
      ]
     },
     "execution_count": 45,
     "metadata": {},
     "output_type": "execute_result"
    }
   ],
   "source": [
    "a.T"
   ]
  },
  {
   "cell_type": "code",
   "execution_count": 46,
   "metadata": {},
   "outputs": [
    {
     "data": {
      "text/plain": [
       "array([[1., 3.],\n",
       "       [2., 4.]])"
      ]
     },
     "execution_count": 46,
     "metadata": {},
     "output_type": "execute_result"
    }
   ],
   "source": [
    "a.transpose()"
   ]
  },
  {
   "cell_type": "code",
   "execution_count": 47,
   "metadata": {},
   "outputs": [
    {
     "data": {
      "text/plain": [
       "array([[-2. ,  1. ],\n",
       "       [ 1.5, -0.5]])"
      ]
     },
     "execution_count": 47,
     "metadata": {},
     "output_type": "execute_result"
    }
   ],
   "source": [
    "np.linalg.inv(a)"
   ]
  },
  {
   "cell_type": "code",
   "execution_count": 50,
   "metadata": {},
   "outputs": [
    {
     "data": {
      "text/plain": [
       "array([[1., 0., 0.],\n",
       "       [0., 1., 0.]])"
      ]
     },
     "execution_count": 50,
     "metadata": {},
     "output_type": "execute_result"
    }
   ],
   "source": [
    "u = np.eye(2,3)\n",
    "u"
   ]
  },
  {
   "cell_type": "code",
   "execution_count": 51,
   "metadata": {},
   "outputs": [
    {
     "data": {
      "text/plain": [
       "array([[ 7., 10.],\n",
       "       [15., 22.]])"
      ]
     },
     "execution_count": 51,
     "metadata": {},
     "output_type": "execute_result"
    }
   ],
   "source": [
    "a@a"
   ]
  },
  {
   "cell_type": "code",
   "execution_count": 52,
   "metadata": {},
   "outputs": [
    {
     "data": {
      "text/plain": [
       "2.0"
      ]
     },
     "execution_count": 52,
     "metadata": {},
     "output_type": "execute_result"
    }
   ],
   "source": [
    "np.trace(u)"
   ]
  },
  {
   "cell_type": "code",
   "execution_count": 53,
   "metadata": {},
   "outputs": [
    {
     "data": {
      "text/plain": [
       "(array([-0.37228132,  5.37228132]),\n",
       " array([[-0.82456484, -0.41597356],\n",
       "        [ 0.56576746, -0.90937671]]))"
      ]
     },
     "execution_count": 53,
     "metadata": {},
     "output_type": "execute_result"
    }
   ],
   "source": [
    "np.linalg.eig(a)"
   ]
  },
  {
   "cell_type": "code",
   "execution_count": 54,
   "metadata": {},
   "outputs": [],
   "source": [
    "a = np.arange(30)"
   ]
  },
  {
   "cell_type": "code",
   "execution_count": 55,
   "metadata": {},
   "outputs": [],
   "source": [
    "a.shape = 2,-1,3 # -1 means \"whatever is needed\""
   ]
  },
  {
   "cell_type": "code",
   "execution_count": 56,
   "metadata": {},
   "outputs": [
    {
     "data": {
      "text/plain": [
       "(2, 5, 3)"
      ]
     },
     "execution_count": 56,
     "metadata": {},
     "output_type": "execute_result"
    }
   ],
   "source": [
    "a.shape"
   ]
  },
  {
   "cell_type": "code",
   "execution_count": 57,
   "metadata": {},
   "outputs": [
    {
     "data": {
      "text/plain": [
       "array([[[ 0,  1,  2],\n",
       "        [ 3,  4,  5],\n",
       "        [ 6,  7,  8],\n",
       "        [ 9, 10, 11],\n",
       "        [12, 13, 14]],\n",
       "\n",
       "       [[15, 16, 17],\n",
       "        [18, 19, 20],\n",
       "        [21, 22, 23],\n",
       "        [24, 25, 26],\n",
       "        [27, 28, 29]]])"
      ]
     },
     "execution_count": 57,
     "metadata": {},
     "output_type": "execute_result"
    }
   ],
   "source": [
    "a"
   ]
  },
  {
   "cell_type": "code",
   "execution_count": 58,
   "metadata": {},
   "outputs": [
    {
     "name": "stdout",
     "output_type": "stream",
     "text": [
      "[[0 2 4 6 8]\n",
      " [0 1 2 3 4]]\n",
      "[0 2 4 6 8 0 1 2 3 4]\n"
     ]
    }
   ],
   "source": [
    "x = np.arange(0,10,2)\n",
    "y = np.arange(5)\n",
    "m = np.vstack([x,y])\n",
    "print(m)\n",
    "xy = np.hstack([x,y])\n",
    "print(xy)"
   ]
  },
  {
   "cell_type": "code",
   "execution_count": 63,
   "metadata": {},
   "outputs": [
    {
     "data": {
      "image/png": "[encoded data removed]",
      "text/plain": [
       "<Figure size 432x288 with 1 Axes>"
      ]
     },
     "metadata": {
      "needs_background": "light"
     },
     "output_type": "display_data"
    }
   ],
   "source": [
    "import matplotlib.pyplot as plt\n",
    "# Build a vector of 10000 normal deviates with variance 0.5^2 and mean 2\n",
    "mu, sigma = 2,0.5\n",
    "v = np.random.normal(mu,sigma,10000)\n",
    "#plot a normal histogram with 50 bins\n",
    "plt.hist(v,bins = 50,density = 1)\n",
    "plt.show()"
   ]
  },
  {
   "cell_type": "code",
   "execution_count": 60,
   "metadata": {},
   "outputs": [
    {
     "data": {
      "image/png": "[encoded data removed]",
      "text/plain": [
       "<Figure size 432x288 with 1 Axes>"
      ]
     },
     "metadata": {
      "needs_background": "light"
     },
     "output_type": "display_data"
    }
   ],
   "source": [
    "(n,bins) = np.histogram(v,bins = 50,density = True)\n",
    "plt.plot(.5*(bins[1:]+bins[:-1]),n)\n",
    "plt.show()"
   ]
  },
  {
   "cell_type": "code",
   "execution_count": null,
   "metadata": {},
   "outputs": [],
   "source": []
  }
 ],
 "metadata": {
  "kernelspec": {
   "display_name": "Python 3",
   "language": "python",
   "name": "python3"
  },
  "language_info": {
   "codemirror_mode": {
    "name": "ipython",
    "version": 3
   },
   "file_extension": ".py",
   "mimetype": "text/x-python",
   "name": "python",
   "nbconvert_exporter": "python",
   "pygments_lexer": "ipython3",
   "version": "3.7.4"
  },
  "toc": {
   "base_numbering": 1,
   "nav_menu": {},
   "number_sections": true,
   "sideBar": true,
   "skip_h1_title": false,
   "title_cell": "Table of Contents",
   "title_sidebar": "Contents",
   "toc_cell": false,
   "toc_position": {},
   "toc_section_display": true,
   "toc_window_display": false
  }
 },
 "nbformat": 4,
 "nbformat_minor": 4
}
